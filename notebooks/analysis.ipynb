{
  "cells": [
    {
      "cell_type": "markdown",
      "metadata": {
        "id": "QdfWLKJW_5RS"
      },
      "source": [
        "<h1 align='center'>Коллективный проект команды №4-1-1<h1>\n",
        "<h2 align='center'>Анализ данных<h2>"
      ]
    },
    {
      "cell_type": "markdown",
      "metadata": {
        "id": "XT3fY11qEV4a"
      },
      "source": [
        "**График №1**. Возрастная круговая диаграмма."
      ]
    },
    {
      "cell_type": "code",
      "execution_count": null,
      "metadata": {
        "id": "KIMjVb0d_lqX"
      },
      "outputs": [],
      "source": [
        "import pandas as pd\n",
        "import matplotlib.pyplot as plt\n",
        "\n",
        "df = pd.read_csv('diabetes_prediction_dataset.csv')\n",
        "\n",
        "# Преобразование столбца age в нужный тип данных\n",
        "df['age'] = pd.to_numeric(df['age'], errors='coerce')\n",
        "\n",
        "# Разделение на возрастные группы\n",
        "bins = [0, 18, 34, 69, 74, 150]\n",
        "labels = ['Молодой', 'Зрелый', 'Средний', 'Пожилой', 'Старческий']\n",
        "df['age_group'] = pd.cut(df['age'], bins=bins, labels=labels, right=False)\n",
        "\n",
        "# Создание круговых диаграмм\n",
        "fig, axes = plt.subplots(1, 5, figsize=(20, 4))\n",
        "\n",
        "# Значения для параметра explode\n",
        "explode = (0.1, 0.1, 0.1, 0.1)\n",
        "\n",
        "# Цвета для категорий из Set3\n",
        "colors = plt.cm.Set3.colors\n",
        "\n",
        "for i, group in enumerate(labels):\n",
        "    subset = df[df['age_group'] == group]\n",
        "    data = [\n",
        "        subset['diabetes'].sum(),\n",
        "        subset['hypertension'].sum(),\n",
        "        subset['heart_disease'].sum(),\n",
        "        len(subset) - subset['diabetes'].sum() - subset['hypertension'].sum() - subset['heart_disease'].sum()\n",
        "    ]\n",
        "    labels = [''] * 4  # пустые строки\n",
        "    autopct = ''\n",
        "\n",
        "    if i >= 2:  # задаем подписи и проценты только для трех последних диаграмм\n",
        "        labels = ['Diabetes', 'Hypertension', 'Heart disease', 'Healthy']\n",
        "        autopct = '%1.1f%%'\n",
        "\n",
        "    axes[i].pie(data, labels=labels, autopct=autopct, startangle=140, wedgeprops={'edgecolor': 'white'}, explode=explode, colors=colors)\n",
        "    axes[i].set_title(f'{group}')\n",
        "\n",
        "plt.suptitle('Заболеваемость с возрастом', fontsize=16)\n",
        "plt.tight_layout()\n",
        "plt.show()"
      ]
    },
    {
      "cell_type": "markdown",
      "metadata": {
        "id": "re1FlpmGElX5"
      },
      "source": [
        "**График №2**. Возрастная круговая диаграмма."
      ]
    },
    {
      "cell_type": "code",
      "execution_count": null,
      "metadata": {
        "id": "QzgnpUwxEltR"
      },
      "outputs": [],
      "source": [
        "import pandas as pd\n",
        "import matplotlib.pyplot as plt\n",
        "# Загрузка данных\n",
        "df = pd.read_csv('diabetes_prediction_dataset.csv')\n",
        "\n",
        "# Создание поднаборов данных для мужчин и женщин\n",
        "male_subset = df[df['gender'] == 'Male']\n",
        "female_subset = df[df['gender'] == 'Female']\n",
        "\n",
        "# Создание круговых диаграмм для мужчин\n",
        "fig, axes = plt.subplots(1, 2, figsize=(14, 7))\n",
        "\n",
        "# Мужчины\n",
        "male_labels = ['Diabetes', 'Hypertension', 'Heart Disease', 'Healthy']\n",
        "male_data = [\n",
        "    male_subset['diabetes'].sum(),\n",
        "    male_subset['hypertension'].sum(),\n",
        "    male_subset['heart_disease'].sum(),\n",
        "    len(male_subset) - male_subset['diabetes'].sum() - male_subset['hypertension'].sum() - male_subset['heart_disease'].sum()\n",
        "]\n",
        "colors = plt.cm.Set3.colors\n",
        "explode = (0.4, 0.4, 0.4, 0)  # добавляем отступ к первому сектору\n",
        "axes[0].pie(male_data, labels=male_labels, autopct='%1.1f%%', startangle=140, colors=colors, explode=explode)\n",
        "\n",
        "axes[0].set_title('Состояние здоровья мужчин')\n",
        "\n",
        "# Женщины\n",
        "female_labels = ['Diabetes', 'Hypertension', 'Heart Disease', 'Healthy']\n",
        "female_data = [\n",
        "    female_subset['diabetes'].sum(),\n",
        "    female_subset['hypertension'].sum(),\n",
        "    female_subset['heart_disease'].sum(),\n",
        "    len(female_subset) - female_subset['diabetes'].sum() - female_subset['hypertension'].sum() - female_subset['heart_disease'].sum()\n",
        "]\n",
        "axes[1].pie(female_data, labels=female_labels, autopct='%1.1f%%', startangle=140, colors=colors)\n",
        "axes[1].set_title('Состояние здоровья женщин')\n",
        "percent_male = len(male_subset) / (len(male_subset) + len(female_subset)) * 100\n",
        "percent_female = len(female_subset) / (len(male_subset) + len(female_subset)) * 100\n",
        "\n",
        "# Добавление текст с процентом мужчин и женщин\n",
        "fig.text(0.28, 0.1, 'Процент мужчин: %.2f%%' % percent_male, ha='center', fontsize=12)\n",
        "fig.text(0.74, 0.1, 'Процент женщин: %.2f%%' % percent_female, ha='center', fontsize=12)\n",
        "plt.show()"
      ]
    },
    {
      "cell_type": "markdown",
      "metadata": {
        "id": "BrDAdil9El-j"
      },
      "source": [
        "**График №3**. Возрастная круговая диаграмма."
      ]
    },
    {
      "cell_type": "code",
      "execution_count": null,
      "metadata": {
        "id": "C1NGA4deEnHa"
      },
      "outputs": [],
      "source": [
        "import pandas as pd\n",
        "import matplotlib.pyplot as plt\n",
        "\n",
        "data = pd.read_csv('diabetes_prediction_dataset.csv')\n",
        "\n",
        "plt.figure(figsize=(10, 6))\n",
        "plt.scatter(data['age'], data['bmi'], c=data['diabetes'].map({0: 'lightgreen', 1: 'Red'}), s=15)\n",
        "\n",
        "plt.xlabel('Age')\n",
        "plt.ylabel('BMI')\n",
        "plt.title('Диаграмма рассеивания - зависимость: возраст от BMI')\n",
        "\n",
        "plt.show()"
      ]
    },
    {
      "cell_type": "markdown",
      "metadata": {
        "id": "LFsG-kSFEnZR"
      },
      "source": [
        "**График №4**. Возрастная круговая диаграмма."
      ]
    },
    {
      "cell_type": "code",
      "execution_count": null,
      "metadata": {
        "id": "XLXojnyGEn6s"
      },
      "outputs": [],
      "source": [
        "import pandas as pd\n",
        "import plotly.express as px\n",
        "\n",
        "# Загрузка данных\n",
        "df = pd.read_csv('diabetes_prediction_dataset.csv')\n",
        "\n",
        "# Выбор переменных для визуализации\n",
        "# В данном примере мы выбрали возраст, ИМТ и уровень глюкозы в крови\n",
        "x, y, z = 'age', 'bmi', 'blood_glucose_level'\n",
        "\n",
        "# Перекодирование столбца diabetes для визуализации: 0 для здоровых, 1 для больных диабетом\n",
        "df[\"diabetes_color\"] = df[\"diabetes\"].apply(lambda x: 'Pink' if x == 1 else 'Green')\n",
        "\n",
        "# Построение трехмерной диаграммы рассеивания\n",
        "fig = px.scatter_3d(df, x=x, y=y, z=z, color='diabetes_color', color_discrete_map={'Pink': 'pink', 'Green': 'green'},\n",
        "                    title=\"Трехмерная точечная диаграмма для прогнозирования диабета\", template=\"plotly_dark\")\n",
        "\n",
        "# Установка размера маркеров\n",
        "fig.update_traces(marker=dict(size=3))\n",
        "fig.update_layout(scene=dict(\n",
        "                    xaxis_title='Возраст',\n",
        "                    yaxis_title='Индекс массы тела',\n",
        "                    zaxis_title='Уровень глюкозы в крови'\n",
        "                ))\n",
        "\n",
        "fig.show()"
      ]
    },
    {
      "cell_type": "markdown",
      "metadata": {
        "id": "Ps2tac6PEoMR"
      },
      "source": [
        "**График №5**. Возрастная круговая диаграмма."
      ]
    },
    {
      "cell_type": "code",
      "execution_count": null,
      "metadata": {
        "id": "W64DTGhxEopB"
      },
      "outputs": [],
      "source": [
        "import pandas as pd\n",
        "import plotly.express as px\n",
        "\n",
        "# Загрузка данных\n",
        "df = pd.read_csv('diabetes_prediction_dataset.csv')\n",
        "\n",
        "# Выберем количественные переменные\n",
        "numeric_columns = ['age', 'bmi', 'HbA1c_level', 'blood_glucose_level', 'diabetes']\n",
        "\n",
        "binary_columns = ['hypertension', 'heart_disease']\n",
        "selected_columns = numeric_columns + binary_columns\n",
        "\n",
        "# Очистим данные от возможных пропущенных значений\n",
        "df_selected = df[selected_columns].dropna()\n",
        "\n",
        "# Вычислим корреляционную матрицу\n",
        "corr_matrix = df_selected.corr(method='pearson')\n",
        "\n",
        "# Построим тепловую карту\n",
        "fig = px.imshow(corr_matrix,\n",
        "                text_auto=True, # Автоматически добавит значения на тепловую карту\n",
        "                labels=dict(x=\"Feature\", y=\"Feature\", color=\"Correlation\"),\n",
        "                x=corr_matrix.columns,\n",
        "                y=corr_matrix.columns,\n",
        "                template=\"plotly_dark\")\n",
        "\n",
        "# Назначим заголовок графика\n",
        "fig.update_layout(title='Корреляционная тепловая карта для прогнозирования диабета', width=1920, height=1080)\n",
        "\n",
        "fig.show()"
      ]
    },
    {
      "cell_type": "markdown",
      "metadata": {
        "id": "rxPSok-zEo6h"
      },
      "source": [
        "**График №6**. Возрастная круговая диаграмма."
      ]
    },
    {
      "cell_type": "code",
      "execution_count": null,
      "metadata": {
        "id": "b15zRvMbEpvh"
      },
      "outputs": [],
      "source": [
        "import pandas as pd\n",
        "import plotly.express as px\n",
        "\n",
        "# Загрузка данных из CSV\n",
        "df = pd.read_csv('diabetes_prediction_dataset.csv')\n",
        "\n",
        "# Заменяем 0 и 1 на более понятные обозначения\n",
        "df['diabetes'] = df['diabetes'].map({0: 'No Diabetes', 1: 'Diabetes'})\n",
        "df['heart_disease'] = df['heart_disease'].map({0: 'No Heart Disease', 1: 'Heart Disease'})\n",
        "df['hypertension'] = df['hypertension'].map({0: 'No Hypertension', 1: 'Hypertension'})\n",
        "\n",
        "# Агрегация всех данных для визуализации\n",
        "grouped_data = df.groupby(['gender', 'age', 'diabetes', 'heart_disease', 'hypertension']).size().reset_index(name='counts')\n",
        "\n",
        "# Создание мозаичной диаграммы с дополнительными условиями\n",
        "fig = px.treemap(grouped_data, path=['gender', 'age', 'diabetes', 'heart_disease', 'hypertension'], values='counts',\n",
        "                 color='counts',\n",
        "                 color_continuous_scale='RdBu',\n",
        "                 title='Распределение диабета, сердечных заболеваний и гипертонии в зависимости от пола и возраста',\n",
        "                 template=\"plotly_dark\")\n",
        "\n",
        "# Показываем фигуру\n",
        "fig.show()"
      ]
    },
    {
      "cell_type": "markdown",
      "metadata": {
        "id": "qgjNVdjlEqFJ"
      },
      "source": [
        "**График №7**. Возрастная круговая диаграмма."
      ]
    },
    {
      "cell_type": "code",
      "execution_count": null,
      "metadata": {
        "id": "Ba5XVn-4Eqxx"
      },
      "outputs": [],
      "source": [
        "import pandas as pd\n",
        "import plotly.express as px\n",
        "\n",
        "# Загрузка данных из CSV\n",
        "df = pd.read_csv('diabetes_prediction_dataset.csv')\n",
        "\n",
        "# Данные для визуализации\n",
        "grouped_data = df.groupby(['gender', 'age', 'diabetes']).size().reset_index(name='counts')\n",
        "\n",
        "# Создание мозаичной диаграммы\n",
        "fig = px.treemap(grouped_data, path=['gender', 'age', 'diabetes'], values='counts',\n",
        "                 color='diabetes',\n",
        "                 color_continuous_scale='RdBu',\n",
        "                 title='Распределение диабета в зависимости от пола и возраста',\n",
        "                 template=\"plotly_dark\")\n",
        "fig.show()"
      ]
    },
    {
      "cell_type": "markdown",
      "metadata": {
        "id": "p-iGyKcqErJJ"
      },
      "source": [
        "**График №8**. Возрастная круговая диаграмма."
      ]
    },
    {
      "cell_type": "code",
      "execution_count": null,
      "metadata": {
        "id": "yAQhOLlUE3n6"
      },
      "outputs": [],
      "source": [
        "import pandas as pd\n",
        "import plotly.express as px\n",
        "df = pd.read_csv('diabetes_prediction_dataset.csv')\n",
        "fig = px.box(df,\n",
        "             x='smoking_history',\n",
        "             y='bmi',\n",
        "             color='smoking_history',\n",
        "             title='Распределение BMI по истории курения',\n",
        "             template=\"plotly_dark\")\n",
        "fig.show()"
      ]
    },
    {
      "cell_type": "markdown",
      "metadata": {
        "id": "SsPsUxS-E1eZ"
      },
      "source": [
        "**График №9**. Возрастная круговая диаграмма."
      ]
    },
    {
      "cell_type": "code",
      "execution_count": null,
      "metadata": {
        "id": "UK0LhNhyE2Dq"
      },
      "outputs": [],
      "source": [
        "import pandas as pd\n",
        "import plotly.express as px\n",
        "\n",
        "df = pd.read_csv('diabetes_prediction_dataset.csv')\n",
        "\n",
        "# smoking_history в числа\n",
        "def convert_smoking(smoking):\n",
        "    if smoking == 'current':\n",
        "        return 2\n",
        "    elif smoking == 'former' or smoking == 'not current' or smoking == 'ever':\n",
        "        return 1\n",
        "    elif smoking == 'never':\n",
        "        return -1\n",
        "    elif smoking == 'no info':\n",
        "        return 0\n",
        "    else:\n",
        "        return None\n",
        "\n",
        "# Применение функции выше к smoking_history и создание нового столбца\n",
        "df['smoking_status'] = df['smoking_history'].apply(convert_smoking)\n",
        "\n",
        "# Построение Parallel Coordinates Plot\n",
        "fig = px.parallel_coordinates(df,\n",
        "                              color=\"diabetes\",\n",
        "                              dimensions=['gender', 'age', 'hypertension', 'heart_disease',\n",
        "                                          'smoking_status', 'bmi', 'HbA1c_level', 'blood_glucose_level'],\n",
        "                              labels={'smoking_status': 'Smoking Status', 'gender': 'Gender', 'age': 'Age',\n",
        "                                      'hypertension': 'Hypertension', 'heart_disease': 'Heart Disease',\n",
        "                                      'bmi': 'BMI', 'HbA1c_level': 'HbA1c Level', 'blood_glucose_level': 'Blood Glucose Level'},\n",
        "                              color_continuous_scale=px.colors.diverging.Tealrose,\n",
        "                              color_continuous_midpoint=0.5,\n",
        "                              template=\"plotly_dark\")\n",
        "fig.show()"
      ]
    },
    {
      "cell_type": "markdown",
      "metadata": {
        "id": "lB0y0wAzE2Tx"
      },
      "source": [
        "<h2 align='center'>Заключение<h2>\n",
        "\n",
        "..."
      ]
    }
  ],
  "metadata": {
    "colab": {
      "provenance": []
    },
    "kernelspec": {
      "display_name": "Python 3",
      "name": "python3"
    },
    "language_info": {
      "name": "python"
    }
  },
  "nbformat": 4,
  "nbformat_minor": 0
}
