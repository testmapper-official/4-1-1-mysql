{
 "cells": [
  {
   "cell_type": "markdown",
   "metadata": {},
   "source": [
    "sample text"
   ]
  },
  {
   "cell_type": "code",
   "execution_count": null,
   "metadata": {},
   "outputs": [],
   "source": [
    "# some code\n",
    "import pandas as pd\n",
    "import plotly.express as px\n",
    "\n",
    "df = pd.read_csv('diabetes_prediction_dataset.csv')\n",
    "\n",
    "# smoking_history в числа\n",
    "def convert_smoking(smoking):\n",
    "    if smoking == 'current':\n",
    "        return 2\n",
    "    elif smoking == 'former' or smoking == 'not current' or smoking == 'ever':\n",
    "        return 1\n",
    "    elif smoking == 'never':\n",
    "        return -1\n",
    "    elif smoking == 'no info':\n",
    "        return 0\n",
    "    else:\n",
    "        return None\n",
    "\n",
    "# Применение функции выше к smoking_history и создание нового столбца\n",
    "df['smoking_status'] = df['smoking_history'].apply(convert_smoking)\n",
    "\n",
    "# Построение Parallel Coordinates Plot\n",
    "fig = px.parallel_coordinates(df,\n",
    "                              color=\"diabetes\",\n",
    "                              dimensions=['gender', 'age', 'hypertension', 'heart_disease',\n",
    "                                          'smoking_status', 'bmi', 'HbA1c_level', 'blood_glucose_level'],\n",
    "                              labels={'smoking_status': 'Smoking Status', 'gender': 'Gender', 'age': 'Age',\n",
    "                                      'hypertension': 'Hypertension', 'heart_disease': 'Heart Disease',\n",
    "                                      'bmi': 'BMI', 'HbA1c_level': 'HbA1c Level', 'blood_glucose_level': 'Blood Glucose Level'},\n",
    "                              color_continuous_scale=px.colors.diverging.Tealrose,\n",
    "                              color_continuous_midpoint=0.5,\n",
    "                              template=\"plotly_dark\")\n",
    "fig.show()"
   ]
  }
 ],
 "metadata": {
  "kernelspec": {
   "display_name": ".venv",
   "language": "python",
   "name": "python3"
  },
  "language_info": {
   "name": "python",
   "version": "3.10.7"
  }
 },
 "nbformat": 4,
 "nbformat_minor": 2
}
